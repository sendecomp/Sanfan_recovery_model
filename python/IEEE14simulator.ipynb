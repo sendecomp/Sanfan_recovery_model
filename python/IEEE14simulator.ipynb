{
  "cells": [
    {
      "cell_type": "markdown",
      "metadata": {
        "id": "YFYI5tGdvdHV"
      },
      "source": [
        "# IEEE-14 smart grid recovery process model consider cascading failures"
      ]
    },
    {
      "cell_type": "markdown",
      "metadata": {
        "id": "w_o7Iqbsvpp5"
      },
      "source": [
        "Sanfan Liu, Nov 2024"
      ]
    },
    {
      "cell_type": "markdown",
      "metadata": {
        "id": "sYvGDDiwjSgk"
      },
      "source": [
        "import libraries"
      ]
    },
    {
      "cell_type": "code",
      "execution_count": 21,
      "metadata": {
        "id": "1L9viQxujUHH"
      },
      "outputs": [],
      "source": [
        "import numpy as np\n",
        "import random\n",
        "import matplotlib.pyplot as plt"
      ]
    },
    {
      "cell_type": "code",
      "execution_count": 22,
      "metadata": {
        "colab": {
          "base_uri": "https://localhost:8080/"
        },
        "id": "-26tibcJis5l",
        "outputId": "c868caff-5008-4acc-cea9-994a39d99b1f"
      },
      "outputs": [
        {
          "output_type": "stream",
          "name": "stdout",
          "text": [
            "Drive already mounted at /content/drive/; to attempt to forcibly remount, call drive.mount(\"/content/drive/\", force_remount=True).\n",
            "[Errno 2] No such file or directory: 'drive/My Drive/simulator'\n",
            "/content/drive/My Drive/simulator\n"
          ]
        }
      ],
      "source": [
        "from google.colab import drive\n",
        "drive.mount('/content/drive/')\n",
        "%cd drive/My\\ Drive/simulator\n",
        "import pandas as pd"
      ]
    },
    {
      "cell_type": "markdown",
      "metadata": {
        "id": "iUoTItdPknli"
      },
      "source": [
        "# Import datasets"
      ]
    },
    {
      "cell_type": "markdown",
      "metadata": {
        "id": "2wIjYNVfMQou"
      },
      "source": [
        "D matrix for IEEE-14, in order of Line 1-20, PMU 1-3, FACTS 1-3, DS"
      ]
    },
    {
      "cell_type": "code",
      "execution_count": 23,
      "metadata": {
        "id": "yVsHyTvsknWE"
      },
      "outputs": [],
      "source": [
        "D = np.array([[\n",
        "0,0.8289319249,0.00176056338,0,0,0,0.03139671362,0,0,0.01203051643,0.003227699531,0,0.003521126761,0,0.005868544601,0.02846244131,0,0.004107981221,0,0.0005868544601,0,0,0,0,0,0.07834507042,0\n",
        "],[0.01598915989,0,0.02520325203,0.00135501355,0.0027100271,0.00298102981,0.0647696477,0.00460704607,0,0.006775067751,0.007046070461,0.00135501355,0.01246612466,0,0.02384823848,0.04742547425,0.00162601626,0.01138211382,0.0008130081301,0.00460704607,0.5601626016,0,0,0,0,0.1967479675,0\n",
        "],[0,0,0,0.02561366062,0,0.005336179296,0.1270010672,0,0,0,0.007470651014,0,0,0,0.01921024546,0.003201707577,0,0,0,0,0,0.8100320171,0,0,0,0.03628601921,0\n",
        "],[0,0.001225490196,0.01225490196,0,0,0,0.001225490196,0.007352941176,0,0.02573529412,0,0,0.00612745098,0,0.07230392157,0,0.001225490196,0.02083333333,0.001225490196,0.001225490196,0,0,0.7659313725,0,0,0.06862745098,0\n",
        "],[0,0,0,0,0,0,0.001398601399,0.001398601399,0,0,0,0,0,0,0,0.001398601399,0,0,0,0,0,0,0,0,0,0,0\n",
        "],[0,0,0,0.02341597796,0,0,0.001377410468,0.001377410468,0,0.001377410468,0,0,0,0,0,0,0,0.04545454545,0,0,0,0,0,0,0,0.001377410468,0\n",
        "],[0.1013460016,0,0.06254948535,0.08630245447,0.005542359462,0.01979414093,0,0.003167062549,0.002375296912,0.04117181314,0.01821060966,0.0007917656374,0.005542359462,0,0.01029295329,0.0126682502,0.003167062549,0.009501187648,0,0.02296120348,0,0,0,0,0,0.05621536025,0\n",
        "],[0.002805049088,0,0,0.001402524544,0,0,0.002805049088,0,0.005610098177,0.002805049088,0,0,0,0,0.001402524544,0.008415147265,0,0,0,0,0,0,0,0,0,0.004207573633,0\n",
        "],[0,0,0,0,0,0,0.003081664099,0,0,0,0,0,0,0,0,0,0,0,0,0,0,0,0,0,0,0,0\n",
        "],[0,0,0.01326899879,0,0,0,0.04342581423,0.003618817853,0,0,0.00482509047,0,0,0,0.02412545235,0.01085645356,0.001206272618,0.003618817853,0,0,0,0,0,0,0,0.00482509047,0\n",
        "],[0,0,0,0.001375515818,0,0,0.001375515818,0,0,0.005502063274,0,0.005502063274,0,0,0.005502063274,0.001375515818,0,0,0,0,0,0,0,0,0,0,0\n",
        "],[0,0,0,0,0,0,0,0,0,0,0,0,0,0,0,0,0.006153846154,0,0,0.001538461538,0,0,0,0,0,0,0\n",
        "],[0,0,0.008298755187,0.001383125864,0,0,0.006915629322,0,0,0,0.001383125864,0,0,0,0,0.005532503458,0,0,0.008298755187,0,0,0,0,0,0,0,0\n",
        "],[0,0,0,0,0,0,0,0,0,0,0,0,0,0,0,0,0,0,0,0,0,0,0,0,0,0,0\n",
        "],[0,0,0.0009940357853,0.005964214712,0.004970178926,0.03280318091,0.002982107356,0,0,0.0009940357853,0.0009940357853,0,0.01292246521,0,0,0.1153081511,0.03180914513,0,0,0,0,0,0,0,0,0.02087475149,0\n",
        "],[0,0,0.008865248227,0,0.007978723404,0.001773049645,0.01507092199,0.007978723404,0,0.0008865248227,0.0008865248227,0,0,0,0.03014184397,0,0.00975177305,0,0,0.1019503546,0,0,0,0,0,0.01329787234,0\n",
        "],[0,0,0.001426533524,0.005706134094,0,0.004279600571,0.007132667618,0,0,0,0.001426533524,0,0,0,0,0,0,0,0,0.007132667618,0,0,0,0,0,0,0\n",
        "],[0,0,0.001303780965,0,0,0,0.001303780965,0.04172099087,0,0,0,0,0,0,0.00260756193,0.001303780965,0.001303780965,0,0,0.007822685789,0,0,0,0,0,0,0\n",
        "],[0,0,0,0,0,0.001538461538,0,0,0,0,0,0,0,0,0,0.006153846154,0,0,0,0,0,0,0,0,0,0,0\n",
        "],[0,0,0,0,0,0,0.001191895113,0,0,0.004767580453,0.001191895113,0,0,0,0.001191895113,0,0,0,0,0,0,0,0,0,0,0.001191895113,0\n",
        "],[0.3883106485,0,0.004003202562,0,0,0,0.0005337603416,0,0,0,0,0,0,0,0,0,0,0,0,0,0,0,0,0,0,0.001601281025,0\n",
        "],[0.006970069701,0.0102501025,0,0.0020500205,0,0,0,0,0,0.009840098401,0.0004100041,0,0,0,0.0004100041,0.0004100041,0,0,0,0.0016400164,0,0,0,0,0,0.0032800328,0\n",
        "],[0.0008676789588,0.007809110629,0,0,0,0.0004338394794,0.0004338394794,0,0,0.003470715835,0,0,0,0,0.0004338394794,0,0,0.0004338394794,0,0,0,0,0,0,0,0.005206073753,0\n",
        "],[0.3166666667,0,0,0,0,0,0,0,0,0,0,0,0,0,0,0,0,0,0,0,0,0,0,0,0,0,0\n",
        "],[0.02380952381,0.007738095238,0,0,0,0,0,0,0,0,0,0,0,0,0,0,0,0,0,0,0,0,0,0,0,0,0\n",
        "],[0.04578313253,0,0.02203098107,0.001032702238,0.01514629948,0.001721170396,0.02719449225,0.0006884681583,0.0006884681583,0.001721170396,0.003786574871,0,0.001376936317,0,0.03580034423,0.01858864028,0.0003442340792,0.001721170396,0,0.006540447504,0,0,0,0,0,0,0\n",
        "],[0.119047619,0.05,0,0,0,0,0,0,0,0,0,0,0,0,0,0,0,0,0,0,0,0,0,0,0,0,0\n",
        "]])"
      ]
    },
    {
      "cell_type": "markdown",
      "metadata": {
        "id": "SQSkUTlJMYik"
      },
      "source": [
        "SCI value for each state"
      ]
    },
    {
      "cell_type": "code",
      "execution_count": 24,
      "metadata": {
        "id": "GBX_DwmduZHN"
      },
      "outputs": [],
      "source": [
        "# prompt: read numbers from \"csi.txt\"\n",
        "\n",
        "def read_numbers_from_file(filename):\n",
        "    \"\"\"Reads numbers from a file and returns them as a list.\"\"\"\n",
        "\n",
        "    numbers = []\n",
        "    try:\n",
        "        with open(filename, 'r') as file:\n",
        "            for line in file:\n",
        "                # Attempt to convert each line to a float, skipping lines that don't contain numbers\n",
        "                try:\n",
        "                  # Handle potential cases where there might be more than one number or non numeric characters on a line\n",
        "                  for word in line.split():\n",
        "                    num = float(word) # will throw an exception if word is not a valid number.\n",
        "                    numbers.append(num)\n",
        "                except ValueError:\n",
        "                    pass # Skip lines that do not contain valid numbers\n",
        "    except FileNotFoundError:\n",
        "        print(f\"Error: File '{filename}' not found.\")\n",
        "        return None\n",
        "\n",
        "    return numbers\n",
        "\n",
        "# Example usage (replace with the actual path to your file)\n",
        "sci_values = read_numbers_from_file(\"csi.txt\")\n"
      ]
    },
    {
      "cell_type": "code",
      "execution_count": 25,
      "metadata": {
        "id": "gEWQr7-m-GgY"
      },
      "outputs": [],
      "source": [
        "def reward_calculation(X_t):\n",
        "  tempX = np.zeros(N)\n",
        "  location = 0\n",
        "  for i in range(0, N):   #reverse 1 and 0s\n",
        "    tempX[i] = 1-X_t[i]\n",
        "  if tempX[26] == 0:    #check if DS is failed\n",
        "    tempX[25] = 0\n",
        "    tempX[24] = 0\n",
        "    tempX[23] = 0\n",
        "  for i in range(0, 20):  #calculate location for lines\n",
        "    location = location + 2**((i+3) * tempX[i])\n",
        "\n",
        "  for i in range(23, 26): # calculate location for FACTS\n",
        "    location = location + 2**((i-23) * tempX[i])\n",
        "\n",
        "  return sci_values[int(location)]"
      ]
    },
    {
      "cell_type": "markdown",
      "metadata": {
        "id": "mXnfVRqVkrC1"
      },
      "source": [
        "**Functions for running the simulation**"
      ]
    },
    {
      "cell_type": "code",
      "execution_count": 26,
      "metadata": {
        "id": "xUzGvuUp6t0E"
      },
      "outputs": [],
      "source": [
        "#function to calculate the failure propagation from current state to up-coming time step\n",
        "def Next_state(X_t):\n",
        "  fail_propagation = np.zeros(N)\n",
        "  for i in range(0, N):\n",
        "    if X_t[i] == 1:\n",
        "      fail_propagation = fail_propagation + D[i]\n",
        "  for i in range(0, N):\n",
        "    RV = random.uniform(0,1)\n",
        "    if fail_propagation[i] > RV:\n",
        "      X_t[i] = 1\n",
        "  return X_t"
      ]
    },
    {
      "cell_type": "code",
      "execution_count": 27,
      "metadata": {
        "id": "dZgrKBikKzwK"
      },
      "outputs": [],
      "source": [
        "#function to schedule the crew to work on failed components\n",
        "# note that component index doesnt prefect align with crew's state because crew has to have one extra state for idle\n",
        "# so for N components, crews has N+1 state and the idling state will always be the (N)th state\n",
        "# dictionary for all variables used:\n",
        "#X_t, component-level system state, X_t[i] has 2 states, 0 & 1, 0 operational, 1 failed\n",
        "#Y_t, crew state, Y_t[i] = the current repair task of crew i (the component crew i is fixing)\n",
        "#repair_tracker, amount of time left for crew to finish working on the current task\n",
        "def repair_condition(X_t, Y_t, repair_tracker , repair_counter):\n",
        "  repair_tracker = repair_tracker - 1\n",
        "  for i in range(0, M):\n",
        "    if repair_tracker[i] <= 0:             #find finished repairs\n",
        "      if Y_t[i]<N:\n",
        "        X_t[int(Y_t[i])] = 0                     #component got repaired set to operational\n",
        "      Y_t[i] = N                       #crew set to be idle\n",
        "  #collect failed components\n",
        "  fail_list = []\n",
        "  for i in range(0, N):\n",
        "    if X_t[i] == 1:               #find failed component\n",
        "      fail_list.append(i)           #append the failed component into failure list\n",
        "      for j in range(0, M):\n",
        "        if i == Y_t[j]:         #if crew is already working on fixing this comonent\n",
        "          fail_list.pop()     #remove the component from the list\n",
        "  if fail_list == []:         #end repair scheduling algorithm if nothing to assign\n",
        "    return (X_t, Y_t, repair_tracker, repair_counter)\n",
        "\n",
        "  (fail_list, Y_t, repair_tracker, repair_counter) = assign_repair(fail_list, Y_t, repair_tracker, repair_counter)\n",
        "  return (X_t, Y_t, repair_tracker, repair_counter)"
      ]
    },
    {
      "cell_type": "code",
      "execution_count": 28,
      "metadata": {
        "id": "3Z0DoHM5ZWLd"
      },
      "outputs": [],
      "source": [
        "#function to assign repair tasks to idling crews\n",
        "def assign_repair(fail_list, Y_t, repair_tracker, repair_counter):\n",
        "  global algorithm\n",
        "  for i in range(0, M):\n",
        "    if Y_t[i] == N:   #check for idling crews\n",
        "      repair_counter = repair_counter + 1\n",
        "      if not fail_list:  # Check if fail_list is empty\n",
        "        return (fail_list, Y_t, repair_tracker, repair_counter) # Return immediately if empty\n",
        "      match algorithm:\n",
        "        case 0: #randomized method\n",
        "          random.shuffle(fail_list)     # shuffle fail_list\n",
        "          Y_t[i] = fail_list[0]         # assign the first component to idling crew\n",
        "          repair_tracker[i] = repair_time[fail_list[0]] #assign repair time to coresponding tracker\n",
        "          fail_list.pop(0)              #remove component from the fail list\n",
        "        case 1: #pre_computed list\n",
        "          global pre_list               #fetch pre-computed list\n",
        "          for j in range(0, len(pre_list)):\n",
        "            for k in range(0, len(fail_list)):\n",
        "              if pre_list[j] == fail_list[k]:   #search the first component on the list\n",
        "                Y_t[i] = pre_list[j]            #assign crew to the component\n",
        "                repair_tracker[i] = repair_time[pre_list[j]]  #assign repair time\n",
        "                fail_list.pop(k)                #remove from the list\n",
        "                break                           #break k loop\n",
        "                break                           #break j loop\n",
        "        case 2: #look ahead\n",
        "          best_component = fail_list[0] #fetch first component on the list\n",
        "          if len(fail_list) > 1:      #if only 1 component, then skip comparision\n",
        "            X_u = np.copy(X_t)\n",
        "            X_u[best_component] = 0   #assume first component is repair\n",
        "            best_reward = (reward_calculation(X_t) - reward_calculation(X_u)/repair_time[best_component]) #find the performance when its repaired\n",
        "            for j in range(1, len(fail_list)):    #for the rest of components on the list\n",
        "              X_v =  np.copy(X_t)\n",
        "              X_v[fail_list[j]] = 0   #assume jth component is fixed\n",
        "              temp_reward = (reward_calculation(X_t) - reward_calculation(X_v)/repair_time[fail_list[j]]) #find its reward after its fixed\n",
        "              if temp_reward > best_reward:      #compare the performance gap\n",
        "                best_reward = temp_reward        #keep the better performance\n",
        "                best_component = fail_list[j]     # keep the better component\n",
        "          Y_t[i] = best_component   #assign the best component to repair crew\n",
        "          repair_tracker[i] = repair_time[best_component] #assign repair time\n",
        "          fail_list.remove(best_component) #remove from the list\n",
        "        case 3: #dynamic dependency\n",
        "          best_component = fail_list[0] # fetch first component from the list\n",
        "          if len(fail_list) > 1:        #if there is more than one failed component\n",
        "            highest_effect=0\n",
        "            for k in range(0, N):\n",
        "              if X_t[k] == 0:\n",
        "                highest_effect = highest_effect + D[best_component][k]\n",
        "            highest_effect = highest_effect / repair_time[best_component] #find the dependency effect caused by best_component\n",
        "            for j in range(1, len(fail_list)):  #compare with other components\n",
        "              temp_effect = 0\n",
        "              for k in range(0, N):\n",
        "                if X_t[k] == 0:\n",
        "                  temp_effect = temp_effect + D[fail_list[j]][k]    #find the dependency effect caused by fail_list[j]\n",
        "              temp_effect = temp_effect / repair_time[fail_list[j]]  #find the dependency effect caused by testing component\n",
        "              if temp_effect > highest_effect:\n",
        "                highest_effect = temp_effect\n",
        "                best_component = fail_list[j]\n",
        "          Y_t[i] = best_component   #assign the best component to repair crew\n",
        "          repair_tracker[i] = repair_time[best_component] #assign repair time\n",
        "          fail_list.remove(best_component) #remove from the list\n",
        "        case _: #handle invalid algorithms\n",
        "          print(\"invalid algorithm\")\n",
        "          sys.exit()\n",
        "\n",
        "  return (fail_list, Y_t, repair_tracker, repair_counter)"
      ]
    },
    {
      "cell_type": "markdown",
      "metadata": {
        "id": "Xqzj8zIhjNJ4"
      },
      "source": [
        "# Input"
      ]
    },
    {
      "cell_type": "code",
      "execution_count": 29,
      "metadata": {
        "id": "4o9tmxhwvbGL"
      },
      "outputs": [],
      "source": [
        "N = 27\n",
        "M = 4                       #number of crews\n",
        "Max_sim_time = 100         #max simulation time\n",
        "sim_trials = 1000           #number of trials we are going to run\n",
        "#choose repair algorithm\n",
        "algorithm =  1              #0-randomized, 1-pre-computed list, 2-look-ahead, 3-dynamic dependency\n",
        "#pre_list = np.array([2, 0, 1, 3, 6, 20, 23, 14, 15, 25, 26,  9,  5, 17, 21, 12, 24,  7, 16, 10, 22, 19, 18, 11, 4,  8, 13])     # a fixed prority for pre-computed list\n",
        "pre_list = np.array([13,  8,  4, 11, 18, 19, 22, 10, 16,  7, 24, 12, 21, 17,  5,  9, 26, 25, 15, 14, 23, 20,  6,  3,  1,  0,  2])\n",
        "repair_time = np.zeros(N)\n",
        "random.seed(0)\n",
        "for i in range(0, 19):      # setup repair time for Lines\n",
        "    repair_time[i] = random.randint(2, 4)    #7~10 hours used in Yan's work\n",
        "for i in range(19, 23):      # setup repair time for PMU\n",
        "    repair_time[i] = random.randint(3, 7)\n",
        "for i in range(23, 26):      # setup repair time for FACTS\n",
        "    repair_time[i] = random.randint(3, 7)\n",
        "    #setup repair time for DS\n",
        "repair_time[N-1] = random.randint(3, 7)"
      ]
    },
    {
      "cell_type": "code",
      "execution_count": 30,
      "metadata": {
        "colab": {
          "base_uri": "https://localhost:8080/"
        },
        "id": "HPzZl6TzXYoj",
        "outputId": "da306d53-b54c-4258-ee02-094008842fed"
      },
      "outputs": [
        {
          "output_type": "stream",
          "name": "stdout",
          "text": [
            "[3. 3. 2. 3. 4. 3. 3. 3. 3. 3. 4. 2. 4. 2. 3. 2. 2. 4. 3. 7. 7. 4. 5. 3.\n",
            " 3. 5. 6.]\n"
          ]
        }
      ],
      "source": [
        "print(repair_time)"
      ]
    },
    {
      "cell_type": "markdown",
      "metadata": {
        "id": "f40V3gUyhsTQ"
      },
      "source": [
        "Run simulation"
      ]
    },
    {
      "cell_type": "code",
      "execution_count": 31,
      "metadata": {
        "colab": {
          "base_uri": "https://localhost:8080/"
        },
        "collapsed": true,
        "id": "6PyKSNVMhxGf",
        "outputId": "4091a327-c26b-4730-b29d-a5fc174cb429"
      },
      "outputs": [
        {
          "output_type": "stream",
          "name": "stdout",
          "text": [
            "0\n",
            "1\n",
            "2\n",
            "3\n",
            "4\n",
            "5\n",
            "6\n",
            "7\n",
            "8\n",
            "9\n",
            "10\n",
            "11\n",
            "12\n",
            "13\n",
            "14\n",
            "15\n",
            "16\n",
            "17\n",
            "18\n",
            "19\n",
            "20\n",
            "21\n",
            "22\n",
            "23\n",
            "24\n",
            "25\n",
            "26\n"
          ]
        }
      ],
      "source": [
        "result = np.zeros( Max_sim_time)\n",
        "repair_attemp_record = np.zeros(200)\n",
        "average_Performance = np.zeros(Max_sim_time)\n",
        "total_repair_attemp = 0\n",
        "for failure in range(0, N):\n",
        "  failure_case = np.zeros(N)\n",
        "  failure_case[failure] = 1\n",
        "  print(failure)\n",
        "  for trial in range(0, sim_trials+1):\n",
        "    random.seed(trial)\n",
        "    np.random.seed(trial)\n",
        "    systemPerformance =  np.ones(Max_sim_time)\n",
        "    repair_counter = 0\n",
        "    X_t = np.copy(failure_case)    #smart grid state at current time\n",
        "    Y_t = np.zeros(M)     #crew state at current time\n",
        "    for i in range(0, M):\n",
        "      Y_t[i] = N\n",
        "    repair_tracker = np.zeros(M)   # repair time tracker\n",
        "    t=0   #current time\n",
        "    while((sum(X_t) != 0) and (t < Max_sim_time-1) ):\n",
        "      (X_t, Y_t,  repair_tracker, repair_counter) = repair_condition(X_t, Y_t, repair_tracker, repair_counter)\n",
        "      X_t = Next_state(X_t)\n",
        "      t = t + 1\n",
        "      systemPerformance[t] = reward_calculation(X_t)# work on finding system performance\n",
        "\n",
        "    result[t] = result [t] +1\n",
        "    total_repair_attemp = total_repair_attemp + repair_counter;\n",
        "  average_Performance = average_Performance + systemPerformance\n",
        "\n",
        "average_Performance = (average_Performance / failure) / 1.0384615384615383"
      ]
    },
    {
      "cell_type": "markdown",
      "metadata": {
        "id": "l_97DamRhxUs"
      },
      "source": [
        "Organize results"
      ]
    },
    {
      "cell_type": "code",
      "source": [
        "print(total_repair_attemp/(N*sim_trials) -1)  #find number of cascading failures"
      ],
      "metadata": {
        "colab": {
          "base_uri": "https://localhost:8080/"
        },
        "id": "R9-BXmFoPKyU",
        "outputId": "1a6351c2-11b3-46fa-98f1-ee39a2fa97c6"
      },
      "execution_count": 32,
      "outputs": [
        {
          "output_type": "stream",
          "name": "stdout",
          "text": [
            "14.697555555555555\n"
          ]
        }
      ]
    },
    {
      "cell_type": "code",
      "execution_count": 33,
      "metadata": {
        "colab": {
          "base_uri": "https://localhost:8080/"
        },
        "id": "95V3NUu74ea1",
        "outputId": "02e61889-af6f-47f5-b546-fdb538dbaf59"
      },
      "outputs": [
        {
          "output_type": "stream",
          "name": "stdout",
          "text": [
            "14.101666666666667\n"
          ]
        }
      ],
      "source": [
        "repair_duration = 0         #find average repair time in hours\n",
        "for i in range(0, Max_sim_time):\n",
        "  repair_duration = repair_duration + result[i] * i\n",
        "print(repair_duration / sim_trials / N)"
      ]
    },
    {
      "cell_type": "code",
      "execution_count": 34,
      "metadata": {
        "colab": {
          "base_uri": "https://localhost:8080/",
          "height": 430
        },
        "id": "rdr_VILXX_0X",
        "outputId": "d45b3e14-491e-4ad8-eaac-f7509e6f23be"
      },
      "outputs": [
        {
          "output_type": "display_data",
          "data": {
            "text/plain": [
              "<Figure size 640x480 with 1 Axes>"
            ],
            "image/png": "[encoded data removed]"
          },
          "metadata": {}
        }
      ],
      "source": [
        "plt.plot(average_Performance)\n",
        "plt.show()"
      ]
    },
    {
      "cell_type": "markdown",
      "metadata": {
        "id": "Reny4TzBl4HT"
      },
      "source": [
        "#For reference only"
      ]
    },
    {
      "cell_type": "markdown",
      "metadata": {
        "id": "9JwTrTSHl9jW"
      },
      "source": [
        "Randomized"
      ]
    },
    {
      "cell_type": "code",
      "execution_count": 35,
      "metadata": {
        "id": "h4KRNaV9hp4b"
      },
      "outputs": [],
      "source": [
        "def randomized(X_t):\n",
        "  list_Failure = []\n",
        "  for i in range(0, N):\n",
        "    if X_t[i] == 1:\n",
        "      list_Failure.append(i)\n",
        "  random.shuffle(list_Failure)\n",
        "  if list_Failure == []:\n",
        "    return 0\n",
        "  return list_Failure[0]+1"
      ]
    },
    {
      "cell_type": "markdown",
      "metadata": {
        "id": "sk7RlxMfl_qk"
      },
      "source": [
        "pre-computed repair priorities based on cascading effect"
      ]
    },
    {
      "cell_type": "code",
      "execution_count": 36,
      "metadata": {
        "id": "HEVJxxgBhqVM"
      },
      "outputs": [],
      "source": [
        "def pre_computed(X_t):\n",
        "  for i in range(0, len(X_t)):\n",
        "    if X_t[pre_list[i]] == 1:\n",
        "      return pre_list[i]+1\n",
        "  return 0"
      ]
    },
    {
      "cell_type": "markdown",
      "metadata": {
        "id": "-cLNteAImKnc"
      },
      "source": [
        "Look-ahead"
      ]
    },
    {
      "cell_type": "code",
      "execution_count": 37,
      "metadata": {
        "id": "BXAEVqGZhqz5"
      },
      "outputs": [],
      "source": [
        "def look_ahead(X_t):\n",
        "  best_component = 0\n",
        "  best_reward = 1\n",
        "  X_u = X_t\n",
        "  X_v = X_t\n",
        "  current_reward = reward_calculation(X_v)\n",
        "  for i in range(0, N):\n",
        "    if X_t[i] == 1:\n",
        "      X_u[i] = 0\n",
        "      temp_reward = reward_calculation(X_u)\n",
        "      if temp_reward > current_reward:\n",
        "        current_reward = temp_reward\n",
        "        best_component = i\n",
        "  return best_component+1"
      ]
    },
    {
      "cell_type": "markdown",
      "metadata": {
        "id": "CdTlLGI2mL9s"
      },
      "source": [
        "dynamic cascading effect"
      ]
    },
    {
      "cell_type": "code",
      "execution_count": 38,
      "metadata": {
        "id": "g4Hpka5lhrFi"
      },
      "outputs": [],
      "source": [
        "def cascading_effect(X_t):\n",
        "  best_component = 0\n",
        "  highest_effect = 0\n",
        "  for i in range(0, N):\n",
        "    if X_t[i] == 1:\n",
        "      temp_effect = 0\n",
        "      for j in range(0, N):\n",
        "        if X_t[j] == 0:\n",
        "          temp_effect += D[i][j]\n",
        "      if temp_effect > highest_effect:\n",
        "        highest_effect = temp_effect\n",
        "        best_component = i\n",
        "  return best_component+1"
      ]
    },
    {
      "cell_type": "code",
      "execution_count": 39,
      "metadata": {
        "id": "AtkEfyqp1UE9",
        "colab": {
          "base_uri": "https://localhost:8080/"
        },
        "outputId": "95735d27-6cfb-4aee-dd5a-667f23fe8f66"
      },
      "outputs": [
        {
          "output_type": "stream",
          "name": "stdout",
          "text": [
            "[0.99823944 0.99186992 1.03415155 0.98529412 0.0041958  0.07438017\n",
            " 0.46159937 0.02945302 0.00308166 0.10977081 0.02063274 0.00769231\n",
            " 0.03181189 0.         0.2306163  0.19858156 0.02710414 0.05736636\n",
            " 0.00769231 0.00953516 0.39444889 0.03526035 0.01908894 0.31666667\n",
            " 0.03154762 0.18416523 0.16904762]\n",
            "[13  8  4 11 18 19 22 10 16  7 24 12 21 17  5  9 26 25 15 14 23 20  6  3\n",
            "  1  0  2]\n"
          ]
        }
      ],
      "source": [
        "arr = np.zeros(len(D))\n",
        "for i in range(0, len(D)):\n",
        "  arr[i] =(D[i].sum())\n",
        "print(arr)\n",
        "ascending_indices = arr.argsort()\n",
        "descending_indices = ascending_indices[::-1]\n",
        "print(ascending_indices)"
      ]
    },
    {
      "cell_type": "markdown",
      "metadata": {
        "id": "3veEalG2sL4T"
      },
      "source": [
        "for running a single trial in case L1 fails"
      ]
    },
    {
      "cell_type": "code",
      "execution_count": 40,
      "metadata": {
        "id": "2omgYmuVqVlA",
        "colab": {
          "base_uri": "https://localhost:8080/"
        },
        "outputId": "2c67e8d6-4b14-4b13-a7f9-d80a990fb873"
      },
      "outputs": [
        {
          "output_type": "stream",
          "name": "stdout",
          "text": [
            "0\n",
            "[1. 0. 0. 0. 0. 0. 0. 0. 0. 0. 0. 0. 0. 0. 0. 0. 0. 0. 0. 0. 0. 0. 0. 0.\n",
            " 0. 0. 0.] [27. 27. 27. 27.] [0. 0. 0. 0.]\n",
            "[1. 1. 0. 0. 0. 0. 0. 0. 0. 0. 0. 0. 0. 0. 0. 0. 0. 0. 0. 0. 0. 0. 0. 0.\n",
            " 0. 0. 0.] [ 0. 27. 27. 27.] [ 3. -1. -1. -1.]\n",
            "[1. 1. 0. 0. 0. 0. 0. 0. 0. 0. 0. 0. 0. 0. 0. 0. 0. 0. 0. 0. 0. 0. 0. 0.\n",
            " 0. 1. 0.] [ 0.  1. 27. 27.] [ 2.  3. -2. -2.]\n",
            "[1. 1. 0. 0. 0. 0. 0. 0. 0. 0. 0. 0. 0. 0. 0. 0. 0. 0. 0. 0. 1. 0. 0. 0.\n",
            " 0. 1. 0.] [ 0.  1. 25. 27.] [ 1.  2.  5. -3.]\n",
            "[0. 1. 0. 0. 0. 0. 0. 0. 0. 0. 0. 0. 0. 0. 0. 0. 0. 0. 0. 0. 1. 0. 0. 0.\n",
            " 0. 1. 0.] [20.  1. 25. 27.] [ 7.  1.  4. -4.]\n",
            "[0. 0. 0. 0. 0. 0. 0. 0. 0. 0. 0. 0. 0. 0. 0. 0. 0. 0. 0. 0. 1. 0. 0. 0.\n",
            " 0. 1. 0.] [20. 27. 25. 27.] [ 6.  0.  3. -5.]\n",
            "[1. 0. 0. 0. 0. 0. 0. 0. 0. 0. 0. 0. 0. 0. 0. 0. 0. 0. 0. 0. 1. 0. 0. 0.\n",
            " 0. 1. 0.] [20. 27. 25. 27.] [ 5. -1.  2. -6.]\n",
            "[1. 1. 0. 0. 0. 0. 0. 0. 0. 0. 0. 0. 0. 0. 0. 0. 0. 0. 0. 0. 1. 0. 0. 0.\n",
            " 0. 1. 0.] [20.  0. 25. 27.] [ 4.  3.  1. -7.]\n",
            "[1. 1. 0. 0. 0. 0. 0. 0. 0. 0. 0. 0. 0. 0. 0. 0. 0. 0. 0. 0. 1. 0. 0. 0.\n",
            " 0. 1. 0.] [20.  0.  1. 27.] [ 3.  2.  3. -8.]\n",
            "[1. 1. 0. 0. 0. 0. 0. 0. 0. 1. 0. 0. 0. 0. 0. 0. 0. 0. 0. 0. 1. 0. 0. 0.\n",
            " 0. 1. 0.] [20.  0.  1. 25.] [2. 1. 2. 5.]\n",
            "[0. 1. 0. 0. 0. 0. 1. 0. 0. 1. 0. 0. 0. 0. 0. 0. 0. 0. 0. 0. 1. 0. 0. 0.\n",
            " 0. 1. 0.] [20.  9.  1. 25.] [1. 3. 1. 4.]\n",
            "[0. 0. 0. 1. 0. 0. 1. 0. 0. 1. 0. 0. 0. 0. 0. 0. 0. 0. 0. 0. 0. 0. 0. 0.\n",
            " 0. 1. 0.] [ 6.  9. 27. 25.] [3. 2. 0. 3.]\n",
            "[0. 0. 0. 1. 0. 0. 1. 0. 0. 1. 0. 0. 0. 0. 0. 0. 0. 0. 0. 0. 0. 0. 0. 0.\n",
            " 0. 1. 0.] [ 6.  9.  3. 25.] [2. 1. 3. 2.]\n",
            "[1. 0. 0. 1. 0. 0. 1. 0. 0. 1. 0. 0. 0. 0. 0. 0. 0. 0. 0. 0. 0. 0. 0. 0.\n",
            " 0. 1. 0.] [ 6. 27.  3. 25.] [1. 0. 2. 1.]\n",
            "[1. 1. 0. 1. 0. 0. 0. 0. 0. 1. 0. 0. 0. 0. 0. 0. 0. 0. 0. 0. 0. 0. 1. 0.\n",
            " 0. 0. 0.] [ 0. 27.  3. 27.] [ 3. -1.  1.  0.]\n",
            "[1. 1. 0. 0. 0. 0. 0. 0. 0. 1. 0. 0. 0. 0. 0. 0. 0. 0. 0. 0. 0. 0. 1. 0.\n",
            " 0. 1. 0.] [ 0.  1. 27. 27.] [ 2.  3.  0. -1.]\n",
            "[1. 1. 0. 0. 0. 0. 0. 0. 0. 1. 0. 0. 0. 0. 0. 0. 0. 0. 0. 0. 0. 0. 1. 0.\n",
            " 0. 1. 0.] [ 0.  1. 25. 27.] [ 1.  2.  5. -2.]\n",
            "[1. 1. 0. 0. 0. 0. 0. 0. 0. 1. 0. 0. 0. 0. 0. 0. 0. 0. 0. 0. 0. 0. 1. 0.\n",
            " 0. 1. 0.] [ 9.  1. 25. 27.] [ 3.  1.  4. -3.]\n",
            "[1. 1. 0. 0. 0. 0. 1. 0. 0. 1. 0. 0. 0. 0. 0. 0. 0. 0. 0. 0. 0. 0. 1. 0.\n",
            " 0. 1. 0.] [ 9.  0. 25. 27.] [ 2.  3.  3. -4.]\n",
            "[1. 1. 0. 0. 0. 0. 1. 0. 0. 1. 0. 0. 0. 0. 1. 0. 0. 0. 0. 0. 0. 0. 1. 0.\n",
            " 0. 1. 0.] [ 9.  0. 25.  1.] [1. 2. 2. 3.]\n",
            "[1. 1. 0. 0. 0. 0. 1. 0. 0. 0. 0. 0. 0. 0. 1. 0. 0. 0. 0. 0. 1. 0. 1. 0.\n",
            " 0. 1. 0.] [ 6.  0. 25.  1.] [3. 1. 1. 2.]\n",
            "[1. 1. 1. 0. 0. 0. 1. 0. 0. 0. 0. 0. 0. 0. 1. 0. 0. 0. 0. 0. 1. 0. 1. 0.\n",
            " 0. 0. 0.] [ 6. 20. 27.  1.] [2. 7. 0. 1.]\n",
            "[1. 1. 1. 0. 0. 0. 1. 0. 0. 0. 0. 0. 0. 0. 1. 0. 1. 0. 0. 1. 1. 1. 1. 0.\n",
            " 0. 0. 0.] [ 6. 20.  2. 27.] [1. 6. 2. 0.]\n",
            "[1. 1. 1. 0. 0. 0. 1. 0. 0. 0. 0. 0. 0. 0. 1. 0. 1. 0. 0. 1. 1. 1. 1. 0.\n",
            " 0. 0. 0.] [ 0. 20.  2. 27.] [ 3.  5.  1. -1.]\n",
            "[1. 1. 0. 0. 0. 0. 1. 0. 0. 0. 0. 0. 0. 0. 1. 0. 1. 0. 0. 1. 1. 1. 1. 0.\n",
            " 0. 1. 0.] [ 0. 20.  1. 27.] [ 2.  4.  3. -2.]\n",
            "[1. 1. 0. 1. 0. 1. 1. 0. 0. 0. 0. 0. 0. 0. 1. 1. 1. 0. 0. 1. 1. 1. 1. 0.\n",
            " 0. 1. 0.] [ 0. 20.  1.  6.] [1. 3. 2. 3.]\n",
            "[1. 1. 0. 1. 0. 1. 1. 0. 0. 0. 0. 0. 0. 0. 1. 1. 1. 0. 0. 1. 1. 1. 1. 0.\n",
            " 0. 1. 0.] [ 3. 20.  1.  6.] [3. 2. 1. 2.]\n",
            "[1. 1. 0. 1. 0. 1. 1. 0. 0. 0. 0. 0. 0. 0. 1. 1. 1. 0. 0. 1. 1. 1. 1. 0.\n",
            " 0. 1. 0.] [ 3. 20.  0.  6.] [2. 1. 3. 1.]\n",
            "[1. 1. 0. 1. 0. 1. 0. 0. 0. 0. 0. 0. 0. 0. 1. 1. 1. 0. 0. 1. 0. 1. 1. 0.\n",
            " 0. 1. 0.] [ 3.  1.  0. 27.] [1. 3. 2. 0.]\n",
            "[1. 1. 1. 0. 0. 1. 1. 0. 0. 0. 0. 0. 0. 0. 1. 1. 1. 1. 0. 1. 1. 1. 1. 0.\n",
            " 0. 1. 0.] [14.  1.  0. 27.] [ 3.  2.  1. -1.]\n",
            "[1. 1. 1. 0. 0. 1. 1. 0. 0. 0. 0. 0. 0. 0. 1. 1. 1. 1. 0. 1. 1. 1. 1. 0.\n",
            " 0. 1. 0.] [14.  1.  2. 27.] [ 2.  1.  2. -2.]\n",
            "[1. 1. 1. 0. 0. 1. 1. 0. 0. 0. 0. 0. 0. 0. 1. 1. 1. 1. 0. 1. 1. 1. 1. 0.\n",
            " 0. 1. 0.] [14.  0.  2. 27.] [ 1.  3.  1. -3.]\n",
            "[1. 1. 0. 0. 0. 1. 1. 0. 0. 0. 1. 0. 0. 0. 0. 1. 1. 1. 0. 1. 1. 1. 1. 0.\n",
            " 0. 1. 0.] [ 1.  0. 27. 27.] [ 3.  2.  0. -4.]\n",
            "[1. 1. 0. 0. 0. 1. 1. 0. 0. 0. 1. 0. 0. 0. 0. 1. 1. 1. 0. 1. 1. 1. 1. 0.\n",
            " 0. 1. 0.] [ 1.  0.  6. 27.] [ 2.  1.  3. -5.]\n",
            "[1. 1. 0. 0. 0. 1. 1. 0. 0. 0. 1. 0. 0. 0. 0. 1. 1. 1. 0. 1. 1. 1. 1. 0.\n",
            " 0. 1. 0.] [ 1. 20.  6. 27.] [ 1.  7.  2. -6.]\n",
            "[1. 1. 0. 0. 0. 1. 1. 0. 0. 0. 1. 0. 0. 0. 1. 1. 1. 1. 0. 1. 1. 1. 1. 0.\n",
            " 0. 1. 0.] [ 0. 20.  6. 27.] [ 3.  6.  1. -7.]\n",
            "[1. 1. 0. 0. 0. 1. 0. 0. 0. 0. 1. 0. 1. 0. 1. 1. 1. 1. 0. 1. 1. 1. 1. 0.\n",
            " 0. 1. 0.] [ 0. 20.  1. 27.] [ 2.  5.  3. -8.]\n",
            "[1. 1. 0. 0. 0. 1. 0. 0. 0. 0. 1. 0. 1. 0. 1. 1. 1. 1. 0. 1. 1. 1. 1. 0.\n",
            " 0. 1. 0.] [ 0. 20.  1. 14.] [1. 4. 2. 3.]\n",
            "[0. 1. 0. 0. 0. 1. 0. 0. 0. 0. 1. 0. 1. 0. 1. 1. 1. 1. 0. 1. 1. 1. 1. 0.\n",
            " 0. 1. 0.] [15. 20.  1. 14.] [2. 3. 1. 2.]\n",
            "[1. 0. 0. 0. 0. 1. 0. 0. 0. 0. 1. 0. 1. 0. 1. 1. 1. 1. 0. 1. 1. 1. 1. 0.\n",
            " 0. 1. 0.] [15. 20. 25. 14.] [1. 2. 5. 1.]\n",
            "[1. 0. 0. 0. 0. 1. 0. 0. 0. 0. 1. 0. 1. 0. 0. 0. 1. 1. 0. 1. 1. 1. 1. 0.\n",
            " 0. 1. 0.] [ 0. 20. 25. 27.] [3. 1. 4. 0.]\n",
            "[1. 0. 0. 0. 0. 1. 0. 0. 0. 0. 1. 0. 1. 0. 1. 0. 1. 1. 0. 1. 0. 1. 1. 0.\n",
            " 0. 1. 0.] [ 0.  5. 25. 27.] [ 2.  3.  3. -1.]\n",
            "[1. 1. 0. 0. 0. 1. 0. 0. 0. 0. 1. 0. 1. 0. 1. 0. 1. 1. 0. 1. 0. 1. 1. 0.\n",
            " 0. 1. 0.] [ 0.  5. 25. 14.] [1. 2. 2. 3.]\n",
            "[0. 1. 0. 0. 0. 1. 0. 0. 0. 0. 1. 0. 1. 0. 1. 0. 1. 1. 0. 1. 1. 1. 1. 0.\n",
            " 0. 1. 0.] [ 1.  5. 25. 14.] [3. 1. 1. 2.]\n",
            "[1. 1. 0. 0. 0. 0. 0. 0. 0. 0. 1. 0. 1. 0. 1. 0. 1. 1. 0. 1. 1. 1. 1. 0.\n",
            " 0. 0. 0.] [ 1. 20. 27. 14.] [2. 7. 0. 1.]\n",
            "[1. 1. 0. 0. 0. 0. 0. 0. 0. 0. 1. 0. 1. 0. 1. 0. 1. 1. 0. 1. 1. 1. 1. 0.\n",
            " 0. 0. 0.] [ 1. 20.  0. 27.] [1. 6. 3. 0.]\n",
            "[1. 1. 0. 0. 0. 0. 0. 0. 0. 0. 1. 0. 1. 0. 1. 0. 1. 1. 0. 1. 1. 1. 1. 0.\n",
            " 0. 0. 0.] [14. 20.  0. 27.] [ 3.  5.  2. -1.]\n",
            "[1. 1. 0. 0. 0. 0. 0. 1. 0. 1. 1. 0. 1. 0. 1. 0. 1. 1. 0. 1. 1. 1. 1. 0.\n",
            " 0. 0. 0.] [14. 20.  0.  1.] [2. 4. 1. 3.]\n",
            "[1. 1. 0. 0. 0. 0. 0. 1. 0. 1. 1. 0. 1. 0. 1. 0. 1. 1. 0. 1. 1. 1. 1. 0.\n",
            " 0. 0. 0.] [14. 20.  9.  1.] [1. 3. 3. 2.]\n",
            "[1. 1. 0. 0. 0. 0. 0. 1. 0. 1. 1. 0. 1. 0. 0. 0. 1. 1. 0. 1. 1. 1. 1. 0.\n",
            " 0. 1. 0.] [ 0. 20.  9.  1.] [3. 2. 2. 1.]\n",
            "[1. 1. 0. 0. 0. 0. 0. 1. 0. 1. 1. 0. 1. 0. 0. 0. 1. 1. 0. 1. 1. 1. 1. 0.\n",
            " 0. 1. 0.] [ 0. 20.  9. 25.] [2. 1. 1. 5.]\n",
            "[1. 1. 0. 0. 0. 0. 0. 1. 0. 0. 1. 0. 1. 0. 0. 0. 1. 1. 0. 1. 1. 1. 1. 0.\n",
            " 0. 1. 0.] [ 0.  1. 27. 25.] [1. 3. 0. 4.]\n",
            "[1. 1. 0. 0. 0. 0. 0. 1. 0. 0. 1. 0. 1. 0. 0. 0. 1. 1. 0. 1. 1. 1. 1. 0.\n",
            " 0. 1. 0.] [20.  1. 27. 25.] [ 7.  2. -1.  3.]\n",
            "[1. 1. 0. 0. 0. 0. 0. 1. 0. 0. 1. 0. 1. 0. 1. 0. 1. 1. 0. 1. 1. 1. 1. 0.\n",
            " 0. 1. 0.] [20.  1.  0. 25.] [6. 1. 3. 2.]\n",
            "[1. 1. 0. 0. 0. 0. 0. 1. 0. 0. 1. 0. 1. 0. 1. 0. 1. 1. 0. 1. 1. 1. 1. 0.\n",
            " 0. 1. 0.] [20. 14.  0. 25.] [5. 3. 2. 1.]\n",
            "[1. 1. 0. 0. 0. 0. 0. 1. 0. 0. 1. 0. 1. 0. 1. 0. 1. 1. 0. 1. 1. 1. 1. 0.\n",
            " 0. 1. 0.] [20. 14.  0.  1.] [4. 2. 1. 3.]\n",
            "[0. 1. 0. 0. 0. 0. 0. 1. 0. 0. 1. 0. 1. 0. 1. 0. 1. 1. 0. 1. 1. 1. 1. 0.\n",
            " 0. 1. 0.] [20. 14. 25.  1.] [3. 1. 5. 2.]\n",
            "[1. 1. 0. 0. 0. 0. 0. 1. 0. 0. 1. 0. 1. 0. 0. 0. 1. 1. 0. 1. 1. 1. 1. 0.\n",
            " 0. 1. 0.] [20. 17. 25.  1.] [2. 4. 4. 1.]\n",
            "[1. 1. 0. 1. 0. 0. 0. 1. 0. 0. 1. 0. 1. 0. 0. 0. 1. 1. 0. 1. 1. 1. 1. 0.\n",
            " 0. 1. 0.] [20. 17. 25.  0.] [1. 3. 3. 3.]\n",
            "[1. 1. 0. 1. 0. 0. 0. 1. 0. 0. 1. 0. 1. 0. 0. 0. 1. 1. 0. 1. 1. 1. 1. 0.\n",
            " 0. 1. 0.] [ 1. 17. 25.  0.] [3. 2. 2. 2.]\n",
            "[1. 1. 0. 1. 0. 0. 0. 1. 0. 0. 1. 0. 1. 0. 0. 0. 1. 1. 0. 1. 1. 1. 1. 0.\n",
            " 0. 1. 0.] [ 1. 17. 25.  0.] [2. 1. 1. 1.]\n",
            "[1. 1. 0. 1. 0. 0. 0. 1. 0. 0. 1. 0. 1. 0. 0. 0. 1. 0. 0. 1. 1. 1. 1. 0.\n",
            " 0. 1. 0.] [ 1.  3. 27. 27.] [1. 3. 0. 0.]\n",
            "[1. 0. 0. 1. 0. 0. 0. 1. 0. 0. 1. 0. 1. 0. 0. 0. 1. 0. 0. 1. 1. 1. 1. 0.\n",
            " 0. 1. 0.] [ 0.  3. 27. 27.] [ 3.  2. -1. -1.]\n",
            "[1. 1. 0. 1. 0. 0. 0. 1. 0. 1. 1. 0. 1. 0. 0. 0. 1. 0. 0. 1. 1. 1. 1. 0.\n",
            " 0. 1. 0.] [ 0.  3. 20. 27.] [ 2.  1.  7. -2.]\n",
            "[1. 1. 0. 0. 0. 0. 0. 1. 0. 1. 1. 0. 1. 0. 0. 0. 1. 0. 0. 1. 1. 1. 1. 0.\n",
            " 0. 1. 0.] [ 0.  1. 20. 27.] [ 1.  3.  6. -3.]\n",
            "[0. 1. 0. 0. 0. 0. 0. 1. 0. 1. 1. 0. 1. 0. 0. 0. 1. 0. 0. 1. 1. 1. 1. 0.\n",
            " 0. 1. 0.] [25.  1. 20. 27.] [ 5.  2.  5. -4.]\n",
            "[1. 1. 0. 0. 0. 0. 0. 1. 0. 1. 1. 0. 1. 0. 0. 0. 1. 0. 0. 1. 1. 1. 1. 0.\n",
            " 0. 1. 0.] [25.  1. 20.  9.] [4. 1. 4. 3.]\n",
            "[1. 1. 0. 0. 0. 0. 0. 1. 0. 1. 1. 0. 1. 0. 0. 0. 1. 0. 0. 1. 1. 1. 1. 0.\n",
            " 0. 1. 0.] [25.  0. 20.  9.] [3. 3. 3. 2.]\n",
            "[1. 1. 0. 0. 0. 0. 0. 1. 0. 1. 1. 0. 1. 0. 0. 0. 1. 0. 0. 1. 1. 1. 1. 0.\n",
            " 0. 1. 0.] [25.  0. 20.  9.] [2. 2. 2. 1.]\n",
            "[1. 1. 0. 0. 0. 0. 0. 1. 0. 0. 1. 0. 1. 0. 0. 0. 1. 0. 0. 1. 1. 1. 1. 0.\n",
            " 0. 1. 0.] [25.  0. 20.  1.] [1. 1. 1. 3.]\n",
            "[0. 1. 0. 0. 0. 0. 0. 1. 0. 0. 1. 0. 1. 0. 0. 0. 1. 0. 0. 1. 0. 1. 1. 0.\n",
            " 0. 0. 0.] [21. 27. 27.  1.] [4. 0. 0. 2.]\n",
            "[0. 1. 0. 0. 0. 0. 1. 1. 0. 0. 1. 0. 1. 0. 0. 0. 1. 0. 0. 1. 1. 1. 1. 0.\n",
            " 0. 0. 0.] [21. 12. 27.  1.] [ 3.  4. -1.  1.]\n",
            "[0. 0. 0. 0. 0. 0. 1. 1. 0. 0. 1. 0. 1. 0. 0. 0. 1. 0. 0. 1. 1. 1. 1. 0.\n",
            " 0. 0. 0.] [21. 12.  6. 27.] [2. 3. 3. 0.]\n",
            "[0. 0. 0. 0. 0. 0. 1. 1. 0. 0. 1. 0. 1. 0. 0. 0. 1. 0. 0. 1. 1. 1. 1. 0.\n",
            " 0. 0. 0.] [21. 12.  6. 20.] [1. 2. 2. 7.]\n",
            "[1. 0. 1. 0. 0. 0. 1. 1. 0. 0. 1. 0. 1. 0. 0. 0. 1. 0. 0. 1. 1. 0. 1. 0.\n",
            " 0. 0. 0.] [ 7. 12.  6. 20.] [3. 1. 1. 6.]\n",
            "[1. 1. 1. 0. 0. 0. 0. 1. 0. 0. 1. 0. 0. 0. 0. 0. 1. 0. 0. 1. 1. 1. 1. 0.\n",
            " 0. 0. 0.] [ 7.  2. 27. 20.] [2. 2. 0. 5.]\n",
            "[1. 1. 1. 0. 0. 0. 0. 1. 0. 0. 1. 0. 0. 0. 0. 0. 1. 0. 0. 1. 1. 1. 1. 0.\n",
            " 0. 0. 0.] [ 7.  2.  0. 20.] [1. 1. 3. 4.]\n",
            "[1. 1. 0. 0. 0. 0. 0. 0. 0. 1. 1. 0. 0. 0. 0. 0. 1. 0. 0. 1. 1. 1. 1. 0.\n",
            " 0. 0. 0.] [ 1. 27.  0. 20.] [3. 0. 2. 3.]\n",
            "[1. 1. 0. 0. 0. 0. 0. 0. 0. 1. 1. 0. 0. 0. 0. 0. 1. 0. 0. 1. 1. 1. 1. 0.\n",
            " 0. 1. 0.] [ 1.  9.  0. 20.] [2. 3. 1. 2.]\n",
            "[1. 1. 0. 0. 0. 0. 0. 0. 0. 1. 1. 0. 0. 0. 0. 0. 1. 0. 0. 1. 1. 1. 1. 0.\n",
            " 0. 1. 0.] [ 1.  9. 25. 20.] [1. 2. 5. 1.]\n",
            "[1. 1. 0. 0. 0. 0. 0. 0. 0. 1. 1. 0. 0. 0. 0. 0. 1. 0. 0. 1. 0. 1. 1. 0.\n",
            " 0. 1. 0.] [ 0.  9. 25. 27.] [3. 1. 4. 0.]\n",
            "[1. 1. 0. 0. 0. 0. 0. 0. 0. 0. 1. 0. 0. 0. 0. 0. 1. 0. 0. 1. 0. 1. 1. 0.\n",
            " 0. 1. 0.] [ 0.  1. 25. 27.] [ 2.  3.  3. -1.]\n",
            "[1. 1. 0. 0. 0. 0. 0. 0. 0. 0. 1. 0. 0. 0. 0. 0. 1. 0. 0. 1. 1. 1. 1. 0.\n",
            " 0. 1. 0.] [ 0.  1. 25. 21.] [1. 2. 2. 4.]\n",
            "[1. 1. 0. 0. 0. 0. 0. 0. 0. 0. 1. 0. 0. 0. 0. 0. 1. 0. 0. 1. 1. 1. 1. 0.\n",
            " 0. 1. 0.] [20.  1. 25. 21.] [7. 1. 1. 3.]\n",
            "[1. 1. 0. 0. 0. 0. 0. 0. 0. 0. 1. 0. 0. 0. 0. 0. 1. 0. 0. 1. 1. 1. 1. 0.\n",
            " 0. 0. 0.] [20.  0. 27. 21.] [6. 3. 0. 2.]\n",
            "[1. 1. 0. 0. 0. 0. 0. 0. 0. 1. 1. 0. 0. 0. 0. 0. 1. 0. 0. 1. 1. 1. 1. 0.\n",
            " 0. 0. 0.] [20.  0.  1. 21.] [5. 2. 3. 1.]\n",
            "[1. 1. 0. 0. 0. 0. 1. 0. 0. 1. 1. 0. 0. 0. 0. 0. 1. 0. 0. 1. 1. 0. 1. 0.\n",
            " 0. 1. 0.] [20.  0.  1.  9.] [4. 1. 2. 3.]\n",
            "[0. 1. 1. 0. 0. 0. 1. 0. 0. 1. 1. 0. 0. 0. 0. 0. 1. 0. 0. 1. 1. 0. 1. 0.\n",
            " 0. 1. 0.] [20.  6.  1.  9.] [3. 3. 1. 2.]\n",
            "[0. 0. 1. 0. 0. 0. 1. 0. 0. 1. 1. 0. 0. 0. 0. 0. 1. 0. 0. 1. 1. 1. 1. 0.\n",
            " 0. 1. 0.] [20.  6.  2.  9.] [2. 2. 2. 1.]\n",
            "[1. 0. 1. 0. 0. 0. 1. 0. 0. 0. 1. 0. 0. 0. 0. 0. 1. 0. 0. 1. 1. 1. 1. 0.\n",
            " 0. 1. 0.] [20.  6.  2. 25.] [1. 1. 1. 5.]\n",
            "[1. 1. 0. 0. 0. 0. 0. 0. 0. 0. 1. 0. 0. 0. 0. 0. 1. 0. 0. 1. 0. 1. 1. 0.\n",
            " 0. 1. 0.] [ 0. 27. 27. 25.] [3. 0. 0. 4.]\n",
            "[1. 1. 0. 0. 0. 0. 0. 0. 0. 0. 1. 0. 0. 0. 0. 0. 1. 0. 0. 1. 1. 1. 1. 0.\n",
            " 0. 1. 0.] [ 0.  1. 27. 25.] [ 2.  3. -1.  3.]\n",
            "[1. 1. 0. 0. 0. 0. 0. 0. 0. 0. 1. 0. 0. 0. 0. 0. 1. 0. 0. 1. 1. 1. 1. 0.\n",
            " 0. 1. 0.] [ 0.  1. 20. 25.] [1. 2. 7. 2.]\n",
            "[1. 1. 0. 0. 0. 0. 0. 0. 0. 1. 1. 0. 0. 0. 0. 0. 1. 0. 0. 1. 1. 1. 1. 0.\n",
            " 0. 1. 0.] [21.  1. 20. 25.] [4. 1. 6. 1.]\n",
            "[1. 0. 0. 0. 0. 0. 1. 0. 0. 1. 1. 0. 0. 0. 0. 0. 1. 0. 0. 1. 1. 1. 1. 0.\n",
            " 0. 0. 0.] [21.  0. 20. 27.] [3. 3. 5. 0.]\n",
            "[1. 1. 0. 0. 0. 0. 1. 0. 0. 1. 1. 0. 0. 0. 0. 0. 1. 0. 0. 1. 1. 1. 1. 0.\n",
            " 0. 1. 0.] [21.  0. 20.  6.] [2. 2. 4. 3.]\n",
            "[1. 1. 1. 0. 0. 0. 1. 0. 0. 1. 1. 0. 0. 0. 0. 0. 1. 0. 0. 1. 1. 1. 1. 0.\n",
            " 0. 1. 0.] [21.  0. 20.  6.] [1. 1. 3. 2.]\n",
            "[1. 1. 1. 0. 0. 0. 1. 0. 0. 1. 1. 0. 0. 0. 0. 1. 1. 0. 0. 1. 1. 1. 1. 0.\n",
            " 0. 1. 0.] [ 2. 27. 20.  6.] [2. 0. 2. 1.]\n",
            "[1. 1. 1. 0. 0. 0. 0. 0. 0. 1. 1. 0. 0. 0. 0. 1. 1. 0. 0. 1. 1. 1. 1. 0.\n",
            " 0. 1. 0.] [ 2.  0. 20. 27.] [1. 3. 1. 0.]\n"
          ]
        }
      ],
      "source": [
        "result = np.zeros( Max_sim_time)\n",
        "repair_attemp_record = np.zeros(200)\n",
        "average_Performance = np.zeros(Max_sim_time)\n",
        "total_repair_attemp = 0\n",
        "for failure in range(0, 1):\n",
        "  failure_case = np.zeros(N)\n",
        "  failure_case[failure] = 1\n",
        "  print(failure)\n",
        "  for trial in range(0, 1):\n",
        "    random.seed(trial)\n",
        "    np.random.seed(trial)\n",
        "    systemPerformance =  np.ones(Max_sim_time)\n",
        "    repair_counter = 0\n",
        "\n",
        "    X_t = np.copy(failure_case)    #smart grid state at current time\n",
        "    Y_t = np.zeros(M)     #crew state at current time\n",
        "    for i in range(0, M):\n",
        "      Y_t[i] = N\n",
        "    repair_tracker = np.zeros(M)   # repair time tracker\n",
        "    t=0   #current time\n",
        "    while((sum(X_t) != 0) and (t < Max_sim_time-1) ):\n",
        "      print(X_t, Y_t, repair_tracker)\n",
        "      (X_t, Y_t,  repair_tracker, repair_counter) = repair_condition(X_t, Y_t, repair_tracker, repair_counter)\n",
        "      X_t = Next_state(X_t)\n",
        "      t = t + 1\n",
        "      systemPerformance[t] = reward_calculation(X_t)# work on finding system performance\n",
        "\n",
        "  result[t] = result [t] +1\n",
        "  average_Performance = average_Performance + systemPerformance\n",
        "  total_repair_attemp = total_repair_attemp + repair_counter;\n",
        "\n",
        "average_Performance = (average_Performance / N) / 1.0384615384615383"
      ]
    }
  ],
  "metadata": {
    "colab": {
      "provenance": []
    },
    "kernelspec": {
      "display_name": "Python 3",
      "name": "python3"
    },
    "language_info": {
      "name": "python"
    }
  },
  "nbformat": 4,
  "nbformat_minor": 0
}